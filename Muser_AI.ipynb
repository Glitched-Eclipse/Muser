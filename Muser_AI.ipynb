{
  "nbformat": 4,
  "nbformat_minor": 0,
  "metadata": {
    "colab": {
      "provenance": [],
      "gpuType": "T4",
      "include_colab_link": true
    },
    "kernelspec": {
      "name": "python3",
      "display_name": "Python 3"
    },
    "language_info": {
      "name": "python"
    },
    "accelerator": "GPU"
  },
  "cells": [
    {
      "cell_type": "markdown",
      "metadata": {
        "id": "view-in-github",
        "colab_type": "text"
      },
      "source": [
        "<a href=\"https://colab.research.google.com/github/PyMainCoder/Muser/blob/main/Muser_AI.ipynb\" target=\"_parent\"><img src=\"https://colab.research.google.com/assets/colab-badge.svg\" alt=\"Open In Colab\"/></a>"
      ]
    },
    {
      "cell_type": "markdown",
      "source": [
        "Muser_AI by Glitch_Verse ver 3.0"
      ],
      "metadata": {
        "id": "Bf4xb9kz4QC1"
      }
    },
    {
      "cell_type": "code",
      "source": [
        "!nvidia-smi"
      ],
      "metadata": {
        "id": "wtPb1LmTup-P"
      },
      "execution_count": null,
      "outputs": []
    },
    {
      "cell_type": "code",
      "execution_count": null,
      "metadata": {
        "id": "PhX8wJzIugkh"
      },
      "outputs": [],
      "source": [
        "#@title Clone the inference repo\n",
        "!git clone https://github.com/hmartiro/riffusion-inference\n",
        "%cd riffusion-inference"
      ]
    },
    {
      "cell_type": "code",
      "source": [
        "#@title Install requirements (you may need to restart the kernel after this)\n",
        "!pip install -r requirements.txt\n",
        "!pip install gradio\n",
        "!pip install --upgrade pillow"
      ],
      "metadata": {
        "id": "wNrYejGYuyws"
      },
      "execution_count": null,
      "outputs": []
    },
    {
      "cell_type": "code",
      "source": [
        "#@title Imports\n",
        "from diffusers import DiffusionPipeline\n",
        "from riffusion.spectrogram_image_converter import SpectrogramImageConverter\n",
        "from riffusion.spectrogram_params import SpectrogramParams\n",
        "from io import BytesIO\n",
        "from IPython.display import Audio\n",
        "\n",
        "pipe = DiffusionPipeline.from_pretrained(\"riffusion/riffusion-model-v1\")\n",
        "pipe = pipe.to(\"cuda\")"
      ],
      "metadata": {
        "id": "FwUldklBwbEZ"
      },
      "execution_count": null,
      "outputs": []
    },
    {
      "cell_type": "code",
      "source": [
        "#@title Define a `predict` function\n",
        "\n",
        "params = SpectrogramParams()\n",
        "converter = SpectrogramImageConverter(params)\n",
        "\n",
        "def predict(prompt, negative_prompt):\n",
        "    spec = pipe(\n",
        "        prompt,\n",
        "        negative_prompt=negative_prompt,\n",
        "        width=768,\n",
        "    ).images[0]\n",
        "\n",
        "    wav = converter.audio_from_spectrogram_image(image=spec)\n",
        "    wav.export('output.wav', format='wav')\n",
        "    return 'output.wav', spec"
      ],
      "metadata": {
        "id": "cJEn1fFHsZN6"
      },
      "execution_count": null,
      "outputs": []
    },
    {
      "cell_type": "code",
      "source": [
        "#@title Run with Colab interface\n",
        "prompt = \"solo piano piece, classical\"#@param {type:\"string\"}\n",
        "negative_prompt = \"drums\"#@param {type:\"string\"}\n",
        "\n",
        "path, spec = predict(prompt, negative_prompt)\n",
        "\n",
        "display(spec)\n",
        "Audio('output.wav')"
      ],
      "metadata": {
        "id": "uO7oM1UGsL5x"
      },
      "execution_count": null,
      "outputs": []
    },
    {
      "cell_type": "code",
      "source": [
        "#@title Run a Gradio demo\n",
        "import gradio as gr\n",
        "\n",
        "gr.Interface(\n",
        "    predict,\n",
        "    inputs=[\"text\", \"text\"],\n",
        "    outputs=[gr.outputs.Audio(type='filepath'), gr.outputs.Image(type='pil')],\n",
        "    title=\"Riffusion\",\n",
        ").launch(share=True, debug=True)"
      ],
      "metadata": {
        "id": "quqt3k234K4Q"
      },
      "execution_count": null,
      "outputs": []
    },
    {
      "cell_type": "code",
      "source": [
        "#@title Upload your own files for style transfer\n",
        "#@markdown #### Drop your audio files (.wav is best) in Colab's file uploader, then type the filename below and run\n",
        "\n",
        "from google.colab import files\n",
        "# uploaded = files.upload()\n",
        "\n",
        "from scipy.io import wavfile\n",
        "import numpy as np\n",
        "from PIL import Image\n",
        "\n",
        "filename = \"rondo_alla_turca.wav\"#@param {type:\"string\"}\n",
        "\n",
        "# read uploaded file to wav\n",
        "rate, data = wavfile.read(f'../{filename}')\n",
        "\n",
        "# resample from 48000 to 44100\n",
        "# from scipy.signal import resample\n",
        "# data = resample(data, int(data.shape[0] * 44100 / 48000))\n",
        "\n",
        "# convert to mono\n",
        "data = np.mean(data, axis=1)\n",
        "\n",
        "# convert to float32\n",
        "data = data.astype(np.float32)\n",
        "\n",
        "# take a random 7 second slice of the audio\n",
        "data = data[rate*7:rate*14]\n",
        "\n",
        "spectrogram = spectrogram_from_waveform(\n",
        "    waveform=data,\n",
        "    sample_rate=rate,\n",
        "    # width=768,\n",
        "    n_fft=8192,\n",
        "    hop_length=512,\n",
        "    win_length=8192,\n",
        ")\n",
        "\n",
        "def image_from_spectrogram(\n",
        "    spectrogram: np.ndarray, max_volume: float = 50, power_for_image: float = 0.25\n",
        ") -> Image.Image:\n",
        "    \"\"\"\n",
        "    Compute a spectrogram image from a spectrogram magnitude array.\n",
        "    \"\"\"\n",
        "    # Apply the power curve\n",
        "    data = np.power(spectrogram, power_for_image)\n",
        "\n",
        "    # Rescale to 0-255\n",
        "    data = data * 255 / max_volume\n",
        "\n",
        "    # Invert\n",
        "    data = 255 - data\n",
        "\n",
        "    # Convert to a PIL image\n",
        "    image = Image.fromarray(data.astype(np.uint8))\n",
        "\n",
        "    # Flip Y\n",
        "    image = image.transpose(Image.FLIP_TOP_BOTTOM)\n",
        "\n",
        "    # Convert to RGB\n",
        "    image = image.convert(\"RGB\")\n",
        "\n",
        "    return image\n",
        "\n",
        "spec = image_from_spectrogram(spectrogram)\n",
        "# img.save('../rondo_alla_turca.png')\n",
        "# display(img)\n",
        "\n",
        "# Audio(data, rate=rate)\n",
        "\n",
        "# wav2 = wav_bytes_from_spectrogram_image(img)\n",
        "# with open(\"../inverse-spectro.wav\", \"wb\") as f:\n",
        "#     f.write(wav2[0].getbuffer())\n",
        "\n",
        "# Audio('../inverse-spectro.wav')"
      ],
      "metadata": {
        "id": "PPgyFm7sG0pL"
      },
      "execution_count": null,
      "outputs": []
    },
    {
      "cell_type": "code",
      "source": [
        "#@title Audio-to-audio based on the previous generated sound: define new pipeline\n",
        "\n",
        "import torch\n",
        "from diffusers import StableDiffusionImg2ImgPipeline\n",
        "\n",
        "# load the pipeline\n",
        "device = \"cuda\"\n",
        "MODEL_ID = \"riffusion/riffusion-model-v1\"\n",
        "pipe = StableDiffusionImg2ImgPipeline.from_pretrained(MODEL_ID, torch_dtype=torch.float16)\n",
        "\n",
        "pipe = pipe.to(device)"
      ],
      "metadata": {
        "id": "lig6K2551XIP"
      },
      "execution_count": null,
      "outputs": []
    },
    {
      "cell_type": "code",
      "source": [],
      "metadata": {
        "id": "0r1Qghek4MDU"
      },
      "execution_count": null,
      "outputs": []
    },
    {
      "cell_type": "markdown",
      "source": [],
      "metadata": {
        "id": "mxb1A6ED4NBU"
      }
    },
    {
      "cell_type": "code",
      "source": [
        "#@title Audio-to-audio: run inference\n",
        "prompt = \"epic orchestra symphony\" #@param {type:\"string\"}\n",
        "\n",
        "images = pipe(\n",
        "    prompt=prompt,\n",
        "    image=spec,\n",
        "    strength=0.5,\n",
        "    guidance_scale=7\n",
        ").images\n",
        "\n",
        "wav = converter.audio_from_spectrogram_image(images[0])\n",
        "wav.export('audio2audio.wav', format='wav')\n",
        "Audio('audio2audio.wav')"
      ],
      "metadata": {
        "id": "eDuHbPEo1hgp"
      },
      "execution_count": null,
      "outputs": []
    }
  ]
}